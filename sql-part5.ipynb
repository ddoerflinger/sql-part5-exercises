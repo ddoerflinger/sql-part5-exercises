{
    "metadata": {
        "kernelspec": {
            "name": "SQL",
            "display_name": "SQL",
            "language": "sql"
        },
        "language_info": {
            "name": "sql",
            "version": ""
        }
    },
    "nbformat_minor": 2,
    "nbformat": 4,
    "cells": [
        {
            "cell_type": "markdown",
            "source": [
                "# Exercises: Creating, Updating, and Destroying Objects\n",
                "\n",
                "For the exercises, you will be working with objects and data you create. Before opening this notebook, make sure that you have set up the new connection to the server and that you have located the database and your schema.\n",
                "\n",
                "## Object Creation\n",
                "\n",
                "Before coding, think of three things you want to make. These could be coding projects, new recipes, or planned projects for a woodworking hobby. Brainstorm the appropriate column names and data types as well.\n",
                "\n",
                "Create a table under your schema called `planned_makes`."
            ],
            "metadata": {
                "azdata_cell_guid": "9d51c166-0c19-4f27-a422-2a6cf596bfb2"
            },
            "attachments": {}
        },
        {
            "cell_type": "code",
            "source": [
                "CREATE TABLE JunkDB_KC.Dana.planned_makes (\r\n",
                "    pattern_name VARCHAR (20) PRIMARY KEY,\r\n",
                "    yarn_type VARCHAR (10) NOT NULL,\r\n",
                "    No_skeins INT NOT NULL,\r\n",
                "    end_product VARCHAR (20) NOT NULL\r\n",
                ");"
            ],
            "metadata": {
                "azdata_cell_guid": "d9238911-6f81-4f01-980d-b584307effaf",
                "language": "sql"
            },
            "outputs": [
                {
                    "output_type": "display_data",
                    "data": {
                        "text/html": "Commands completed successfully."
                    },
                    "metadata": {}
                },
                {
                    "output_type": "display_data",
                    "data": {
                        "text/html": "Total execution time: 00:00:00.056"
                    },
                    "metadata": {}
                }
            ],
            "execution_count": 1
        },
        {
            "cell_type": "markdown",
            "source": [
                "Add three rows to your table that are your planned makes."
            ],
            "metadata": {
                "azdata_cell_guid": "83cdf34d-8c4f-4fa1-a14e-77384b19d734"
            }
        },
        {
            "cell_type": "code",
            "source": [
                "INSERT INTO Dana.planned_makes (pattern_name, yarn_type, No_skeins, end_product)\r\n",
                "VALUES ('Butterfly', 'acrylic', 1, 'applique');\r\n",
                "\r\n",
                "INSERT INTO Dana.planned_makes (pattern_name, yarn_type, No_skeins, end_product)\r\n",
                "VALUES ('Valentine Heart', 'acrylic', 1, 'applique');\r\n",
                "\r\n",
                "INSERT INTO Dana.planned_makes\r\n",
                "VALUES ('Log Cabin', 'wool', 14, 'blanket');\r\n",
                "\r\n",
                "SELECT * FROM Dana.planned_makes;"
            ],
            "metadata": {
                "azdata_cell_guid": "e7cff9cb-87ba-4c7b-98f2-eaf445e8719c",
                "language": "sql"
            },
            "outputs": [
                {
                    "output_type": "display_data",
                    "data": {
                        "text/html": "The statement has been terminated."
                    },
                    "metadata": {}
                },
                {
                    "output_type": "display_data",
                    "data": {
                        "text/html": "The statement has been terminated."
                    },
                    "metadata": {}
                },
                {
                    "output_type": "display_data",
                    "data": {
                        "text/html": "The statement has been terminated."
                    },
                    "metadata": {}
                },
                {
                    "output_type": "display_data",
                    "data": {
                        "text/html": "(3 rows affected)"
                    },
                    "metadata": {}
                },
                {
                    "output_type": "display_data",
                    "data": {
                        "text/html": "Total execution time: 00:00:00.077"
                    },
                    "metadata": {}
                },
                {
                    "output_type": "execute_result",
                    "metadata": {},
                    "execution_count": 4,
                    "data": {
                        "application/vnd.dataresource+json": {
                            "schema": {
                                "fields": [
                                    {
                                        "name": "pattern_name"
                                    },
                                    {
                                        "name": "yarn_type"
                                    },
                                    {
                                        "name": "No_skeins"
                                    },
                                    {
                                        "name": "end_product"
                                    }
                                ]
                            },
                            "data": [
                                {
                                    "0": "Butterfly",
                                    "1": "acrylic",
                                    "2": "1",
                                    "3": "applique"
                                },
                                {
                                    "0": "Log Cabin",
                                    "1": "wool",
                                    "2": "14",
                                    "3": "blanket"
                                },
                                {
                                    "0": "Valentine Heart",
                                    "1": "acrylic",
                                    "2": "1",
                                    "3": "applique"
                                }
                            ]
                        },
                        "text/html": [
                            "<table>",
                            "<tr><th>pattern_name</th><th>yarn_type</th><th>No_skeins</th><th>end_product</th></tr>",
                            "<tr><td>Butterfly</td><td>acrylic</td><td>1</td><td>applique</td></tr>",
                            "<tr><td>Log Cabin</td><td>wool</td><td>14</td><td>blanket</td></tr>",
                            "<tr><td>Valentine Heart</td><td>acrylic</td><td>1</td><td>applique</td></tr>",
                            "</table>"
                        ]
                    }
                },
                {
                    "output_type": "error",
                    "evalue": "Msg 2627, Level 14, State 1, Line 1\r\nViolation of PRIMARY KEY constraint 'PK__planned___AF84FF97F6CD0BD1'. Cannot insert duplicate key in object 'Dana.planned_makes'. The duplicate key value is (Butterfly).",
                    "ename": "",
                    "traceback": []
                },
                {
                    "output_type": "error",
                    "evalue": "Msg 2627, Level 14, State 1, Line 4\r\nViolation of PRIMARY KEY constraint 'PK__planned___AF84FF97F6CD0BD1'. Cannot insert duplicate key in object 'Dana.planned_makes'. The duplicate key value is (Valentine Heart).",
                    "ename": "",
                    "traceback": []
                },
                {
                    "output_type": "error",
                    "evalue": "Msg 2627, Level 14, State 1, Line 7\r\nViolation of PRIMARY KEY constraint 'PK__planned___AF84FF97F6CD0BD1'. Cannot insert duplicate key in object 'Dana.planned_makes'. The duplicate key value is (Log Cabin).",
                    "ename": "",
                    "traceback": []
                }
            ],
            "execution_count": 4
        },
        {
            "cell_type": "markdown",
            "source": [
                "## Update a Row\n",
                "\n",
                "Change different values in one of your three rows."
            ],
            "metadata": {
                "azdata_cell_guid": "4a39b8d4-ae97-4e09-8336-c5fc6a00d76c"
            },
            "attachments": {}
        },
        {
            "cell_type": "code",
            "source": [
                "UPDATE Dana.planned_makes\r\n",
                "SET yarn_type = 'cotton'\r\n",
                "WHERE pattern_name = 'Valentine Heart';\r\n",
                "\r\n",
                "SELECT * FROM Dana.planned_makes;"
            ],
            "metadata": {
                "azdata_cell_guid": "7409c695-9581-4ad8-b03a-574d2c4c87cb",
                "language": "sql"
            },
            "outputs": [
                {
                    "output_type": "display_data",
                    "data": {
                        "text/html": "(1 row affected)"
                    },
                    "metadata": {}
                },
                {
                    "output_type": "display_data",
                    "data": {
                        "text/html": "(3 rows affected)"
                    },
                    "metadata": {}
                },
                {
                    "output_type": "display_data",
                    "data": {
                        "text/html": "Total execution time: 00:00:00.059"
                    },
                    "metadata": {}
                },
                {
                    "output_type": "execute_result",
                    "metadata": {},
                    "execution_count": 5,
                    "data": {
                        "application/vnd.dataresource+json": {
                            "schema": {
                                "fields": [
                                    {
                                        "name": "pattern_name"
                                    },
                                    {
                                        "name": "yarn_type"
                                    },
                                    {
                                        "name": "No_skeins"
                                    },
                                    {
                                        "name": "end_product"
                                    }
                                ]
                            },
                            "data": [
                                {
                                    "0": "Butterfly",
                                    "1": "acrylic",
                                    "2": "1",
                                    "3": "applique"
                                },
                                {
                                    "0": "Log Cabin",
                                    "1": "wool",
                                    "2": "14",
                                    "3": "blanket"
                                },
                                {
                                    "0": "Valentine Heart",
                                    "1": "cotton",
                                    "2": "1",
                                    "3": "applique"
                                }
                            ]
                        },
                        "text/html": [
                            "<table>",
                            "<tr><th>pattern_name</th><th>yarn_type</th><th>No_skeins</th><th>end_product</th></tr>",
                            "<tr><td>Butterfly</td><td>acrylic</td><td>1</td><td>applique</td></tr>",
                            "<tr><td>Log Cabin</td><td>wool</td><td>14</td><td>blanket</td></tr>",
                            "<tr><td>Valentine Heart</td><td>cotton</td><td>1</td><td>applique</td></tr>",
                            "</table>"
                        ]
                    }
                }
            ],
            "execution_count": 5
        },
        {
            "cell_type": "markdown",
            "source": [
                "## Delete a Row\n",
                "\n",
                "Delete one of the rows from your table."
            ],
            "metadata": {
                "azdata_cell_guid": "95e91a6e-9038-42d9-9401-5738842aba17"
            }
        },
        {
            "cell_type": "code",
            "source": [
                "DELETE FROM Dana.planned_makes\r\n",
                "WHERE pattern_name = 'Butterfly';\r\n",
                "\r\n",
                "SELECT * FROM Dana.planned_makes;"
            ],
            "metadata": {
                "azdata_cell_guid": "749c748f-19b5-4c69-9004-b6b20216616a",
                "language": "sql"
            },
            "outputs": [
                {
                    "output_type": "display_data",
                    "data": {
                        "text/html": "(1 row affected)"
                    },
                    "metadata": {}
                },
                {
                    "output_type": "display_data",
                    "data": {
                        "text/html": "(2 rows affected)"
                    },
                    "metadata": {}
                },
                {
                    "output_type": "display_data",
                    "data": {
                        "text/html": "Total execution time: 00:00:00.061"
                    },
                    "metadata": {}
                },
                {
                    "output_type": "execute_result",
                    "metadata": {},
                    "execution_count": 7,
                    "data": {
                        "application/vnd.dataresource+json": {
                            "schema": {
                                "fields": [
                                    {
                                        "name": "pattern_name"
                                    },
                                    {
                                        "name": "yarn_type"
                                    },
                                    {
                                        "name": "No_skeins"
                                    },
                                    {
                                        "name": "end_product"
                                    }
                                ]
                            },
                            "data": [
                                {
                                    "0": "Log Cabin",
                                    "1": "wool",
                                    "2": "14",
                                    "3": "blanket"
                                },
                                {
                                    "0": "Valentine Heart",
                                    "1": "cotton",
                                    "2": "1",
                                    "3": "applique"
                                }
                            ]
                        },
                        "text/html": [
                            "<table>",
                            "<tr><th>pattern_name</th><th>yarn_type</th><th>No_skeins</th><th>end_product</th></tr>",
                            "<tr><td>Log Cabin</td><td>wool</td><td>14</td><td>blanket</td></tr>",
                            "<tr><td>Valentine Heart</td><td>cotton</td><td>1</td><td>applique</td></tr>",
                            "</table>"
                        ]
                    }
                }
            ],
            "execution_count": 7
        },
        {
            "cell_type": "markdown",
            "source": [
                "## Drop the Table\n",
                "\n",
                "While this has been fun, it is time to drop the table!"
            ],
            "metadata": {
                "azdata_cell_guid": "2239cb09-137b-4579-905b-1aa020793181"
            },
            "attachments": {}
        },
        {
            "cell_type": "code",
            "source": [
                "DROP TABLE Dana.planned_makes;"
            ],
            "metadata": {
                "azdata_cell_guid": "b3c7f6ea-ee26-46b3-9c2a-2f7a82c39699",
                "language": "sql"
            },
            "outputs": [
                {
                    "output_type": "display_data",
                    "data": {
                        "text/html": "Commands completed successfully."
                    },
                    "metadata": {}
                },
                {
                    "output_type": "display_data",
                    "data": {
                        "text/html": "Total execution time: 00:00:00.056"
                    },
                    "metadata": {}
                }
            ],
            "execution_count": 8
        }
    ]
}